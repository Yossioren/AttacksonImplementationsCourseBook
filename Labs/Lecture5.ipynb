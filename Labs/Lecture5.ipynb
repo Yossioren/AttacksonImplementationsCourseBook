{
 "cells": [
  {
   "cell_type": "markdown",
   "metadata": {
    "colab_type": "text",
    "id": "view-in-github"
   },
   "source": [
    "<a href=\"https://colab.research.google.com/github/orel509/AttacksonImplementationsCourseBook/blob/master/Labs/Lecture5.ipynb\" target=\"_parent\"><img src=\"https://colab.research.google.com/assets/colab-badge.svg\" alt=\"Open In Colab\"/></a>"
   ]
  },
  {
   "cell_type": "code",
   "execution_count": null,
   "metadata": {},
   "outputs": [],
   "source": [
    "#Resources and Dependencies, if you are interested, you can use the links to see the code\n",
    "!wget https://raw.githubusercontent.com/Yossioren/AttacksonImplementationsCourseBook/master/Labs/hamming_weight.py\n",
    "!wget https://raw.githubusercontent.com/Yossioren/AttacksonImplementationsCourseBook/master/Labs/aes_lib.py"
   ]
  },
  {
   "cell_type": "code",
   "execution_count": null,
   "metadata": {
    "tags": []
   },
   "outputs": [],
   "source": [
    "import matplotlib.pyplot as plt\n",
    "import numpy as np\n",
    "from hamming_weight import hamming_weight\n",
    "#from Local.aes_scripts.aes_crypt_8bit import aes_crypt_8bit\n",
    "#from Local.aes_scripts.aes_crypt_8bit_and_leak import aes_crypt_8bit_and_leak\n",
    "from aes_lib import aes_crypt_8bit, aes_crypt_8bit_and_leak\n",
    "\n",
    "!pip install -q bokeh\n",
    "from bokeh.plotting import figure, show\n",
    "from bokeh.layouts import row\n",
    "from bokeh.models import Range1d, ColorBar, LinearColorMapper, BasicTicker\n",
    "from bokeh.io import output_notebook\n",
    "# Call once to configure Bokeh to display plots inline in the notebook.\n",
    "output_notebook()"
   ]
  },
  {
   "cell_type": "code",
   "execution_count": null,
   "metadata": {},
   "outputs": [],
   "source": [
    "def getHeatMap(title, data, dh, dw):\n",
    "    #indMax = np.unravel_index(np.argmax(data, axis=None), data.shape)\n",
    "    #print(np.shape(data), data[indMax])    \n",
    "    color_mapper = LinearColorMapper(palette=\"Turbo256\", low=1e-2, high=256)\n",
    "    #Log heatmap\n",
    "\n",
    "    fig = figure(title=title, x_range=(0,dw), y_range=(0,dh),\n",
    "        tooltips=[(\"x\", \"$x\"), (\"y\", \"$y\"), (\"value\", \"@image\")], height=700, width=350)\n",
    "    fig.image(image=[data], x=0, y=0, dw=dw, dh=dh, color_mapper=color_mapper, level=\"image\")\n",
    "    #palette values-https://docs.bokeh.org/en/latest/docs/reference/palettes.html\n",
    "\n",
    "    #add heat map\n",
    "    color_bar = ColorBar(color_mapper=color_mapper, ticker=BasicTicker(),\n",
    "                        label_standoff=12, border_line_color=None, location=(0,0))\n",
    "    fig.add_layout(color_bar, 'right')\n",
    "    #show(fig)\n",
    "    return fig"
   ]
  },
  {
   "cell_type": "code",
   "execution_count": null,
   "metadata": {
    "colab": {},
    "colab_type": "code",
    "id": "yMABJHgMeN1K"
   },
   "outputs": [],
   "source": [
    "#  Make sure the matlab AES scripts are in the path\n",
    "# #\n",
    "#  Create two 128-bit plaintexts (exactly 16 byte)\n",
    "pt1 = []\n",
    "pt2 = []\n",
    "for b1 in bytes('Attack at 12:56!', 'utf-8'):\n",
    "  pt1 += [b1]\n",
    "for b2 in bytes('Attack at 12:57!', 'utf-8'):\n",
    "  pt2 += [b2]\n",
    "\n",
    "plaintext_1 = np.uint8(pt1)\n",
    "plaintext_1_1 = np.asmatrix(plaintext_1)\n",
    "plaintext_2 = np.uint8(pt2)\n",
    "plaintext_2_2 = np.asmatrix(plaintext_2)"
   ]
  },
  {
   "cell_type": "code",
   "execution_count": null,
   "metadata": {
    "colab": {},
    "colab_type": "code",
    "id": "MyRLKeCPh0Zd",
    "tags": []
   },
   "outputs": [],
   "source": [
    "#  how many bits are different between the two?\n",
    "res = hamming_weight(np.bitwise_xor(plaintext_1_1, plaintext_2_2))\n",
    "print(res)"
   ]
  },
  {
   "cell_type": "code",
   "execution_count": null,
   "metadata": {
    "colab": {},
    "colab_type": "code",
    "id": "i3KLIluDh0hn"
   },
   "outputs": [],
   "source": [
    "#  Create a key\n",
    "key_bytes = []\n",
    "for byte in bytes('1234512345123456', 'utf-8'):\n",
    "  key_bytes += [byte]\n",
    "\n",
    "key = np.uint8(key_bytes)\n",
    "key = np.asmatrix(key)"
   ]
  },
  {
   "cell_type": "code",
   "execution_count": null,
   "metadata": {
    "colab": {},
    "colab_type": "code",
    "id": "MSTydhtcguC0"
   },
   "outputs": [],
   "source": [
    "ENCRYPT = 1\n",
    "DECRYPT = 0\n",
    "#  Encrypt the two plaintexts\n",
    "ciphertext_1 = aes_crypt_8bit(plaintext_1_1, key, ENCRYPT)\n",
    "ciphertext_2 = aes_crypt_8bit(plaintext_2_2, key, ENCRYPT)"
   ]
  },
  {
   "cell_type": "code",
   "execution_count": null,
   "metadata": {
    "tags": []
   },
   "outputs": [],
   "source": [
    "#  even though the plaintexts were very similar...\n",
    "print(plaintext_1)\n",
    "print(plaintext_2)\n",
    "#  ... the ciphertexts are very different\n",
    "print(ciphertext_1)\n",
    "print(ciphertext_2)"
   ]
  },
  {
   "cell_type": "code",
   "execution_count": null,
   "metadata": {
    "colab": {},
    "colab_type": "code",
    "id": "TczPHJaohblr",
    "tags": []
   },
   "outputs": [],
   "source": [
    "#  how many bits are different between the two?\n",
    "print(hamming_weight(np.bitwise_xor(ciphertext_1, ciphertext_2)))"
   ]
  },
  {
   "cell_type": "code",
   "execution_count": null,
   "metadata": {
    "colab": {},
    "colab_type": "code",
    "id": "JI2q9IE0hYWV"
   },
   "outputs": [],
   "source": [
    "#  Decrypt the two ciphertexts\n",
    "decrypted_1 =  aes_crypt_8bit(ciphertext_1, key, DECRYPT)\n",
    "decrypted_2 =  aes_crypt_8bit(ciphertext_2, key, DECRYPT)"
   ]
  },
  {
   "cell_type": "code",
   "execution_count": null,
   "metadata": {
    "colab": {},
    "colab_type": "code",
    "id": "-UKwCDuohYYo",
    "tags": []
   },
   "outputs": [],
   "source": [
    "#  Did we get the plaintext again?\n",
    "print(plaintext_1)\n",
    "print(plaintext_2)\n",
    "print(decrypted_1)\n",
    "print(decrypted_2)"
   ]
  },
  {
   "cell_type": "code",
   "execution_count": null,
   "metadata": {
    "colab": {},
    "colab_type": "code",
    "id": "sI4nfhA2hTTj"
   },
   "outputs": [],
   "source": [
    "#  Look at the internals of AES now\n",
    "[ciphertext_1, state_1, _, leak_1] = aes_crypt_8bit_and_leak(plaintext_1_1, key, ENCRYPT)\n",
    "[ciphertext_2, state_2, _, leak_2] = aes_crypt_8bit_and_leak(plaintext_2_2, key, ENCRYPT)"
   ]
  },
  {
   "cell_type": "code",
   "execution_count": null,
   "metadata": {
    "tags": []
   },
   "outputs": [],
   "source": [
    "shape_1 = np.shape(state_1)\n",
    "dh_1 = shape_1[0]\n",
    "dw_1 = shape_1[2]\n",
    "\n",
    "p1 = getHeatMap('Plaintext 1 leaks',  np.squeeze(state_1), dh_1, dw_1)\n",
    "p2 = getHeatMap('Plaintext 2 leaks',  np.squeeze(state_2), dh_1, dw_1)\n",
    "p3 = getHeatMap('XOR of Plaintext 1 leaks and Plaintext 2 leaks', np.squeeze(np.bitwise_xor(state_1, state_2)), dh_1, dw_1)\n",
    "                   \n",
    "show(row(p1,p3,p2))"
   ]
  },
  {
   "cell_type": "code",
   "execution_count": null,
   "metadata": {
    "colab": {},
    "colab_type": "code",
    "id": "Jvul51G2gwF9",
    "tags": []
   },
   "outputs": [],
   "source": [
    "#  plot the HW of the difference\n",
    "x_values = list(range(1, (np.shape(state_1)[0]) + 1))  \n",
    "\n",
    "p = figure(title='Hamming weight for the xor of plaintext1 and plaintext2 leaks', x_axis_label='Subround', y_axis_label='Hamming weight', tooltips=[(\"x\", \"$x\"), (\"y\", \"$y\")])\n",
    "p.vbar(x_values, top=hamming_weight(np.bitwise_xor(state_1, state_2)), width=0.5, fill_color='blue')\n",
    "show(p)"
   ]
  },
  {
   "cell_type": "code",
   "execution_count": null,
   "metadata": {},
   "outputs": [],
   "source": []
  }
 ],
 "metadata": {
  "colab": {
   "include_colab_link": true,
   "name": "Lecture5.ipynb",
   "provenance": []
  },
  "kernelspec": {
   "display_name": "Python 3",
   "language": "python",
   "name": "python3"
  },
  "language_info": {
   "codemirror_mode": {
    "name": "ipython",
    "version": 2
   },
   "file_extension": ".py",
   "mimetype": "text/x-python",
   "name": "python",
   "nbconvert_exporter": "python",
   "pygments_lexer": "ipython2",
   "version": "3.8.2-final"
  }
 },
 "nbformat": 4,
 "nbformat_minor": 0
}
